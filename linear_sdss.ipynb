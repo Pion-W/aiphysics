{
 "cells": [
  {
   "cell_type": "code",
   "execution_count": 3,
   "metadata": {},
   "outputs": [],
   "source": [
    "import tensorflow as tf\n",
    "from tensorflow import keras\n",
    "import pandas as pd\n",
    "import matplotlib.pyplot as plt"
   ]
  },
  {
   "cell_type": "code",
   "execution_count": 4,
   "metadata": {},
   "outputs": [
    {
     "data": {
      "text/plain": [
       "'2.3.1'"
      ]
     },
     "execution_count": 4,
     "metadata": {},
     "output_type": "execute_result"
    }
   ],
   "source": [
    "tf.__version__"
   ]
  },
  {
   "cell_type": "code",
   "execution_count": 285,
   "metadata": {},
   "outputs": [],
   "source": [
    "#From\n",
    "#https://www.kaggle.com/lucidlenn/sloan-digital-sky-survey\n",
    "sdss=pd.read_csv('/Users/sdodelso/AI_Institute/Course/Skyserver_SQL2_27_2018 6_51_39 PM.csv')"
   ]
  },
  {
   "cell_type": "code",
   "execution_count": 286,
   "metadata": {},
   "outputs": [
    {
     "name": "stdout",
     "output_type": "stream",
     "text": [
      "<class 'pandas.core.frame.DataFrame'>\n",
      "RangeIndex: 10000 entries, 0 to 9999\n",
      "Data columns (total 18 columns):\n",
      " #   Column     Non-Null Count  Dtype  \n",
      "---  ------     --------------  -----  \n",
      " 0   objid      10000 non-null  float64\n",
      " 1   ra         10000 non-null  float64\n",
      " 2   dec        10000 non-null  float64\n",
      " 3   u          10000 non-null  float64\n",
      " 4   g          10000 non-null  float64\n",
      " 5   r          10000 non-null  float64\n",
      " 6   i          10000 non-null  float64\n",
      " 7   z          10000 non-null  float64\n",
      " 8   run        10000 non-null  int64  \n",
      " 9   rerun      10000 non-null  int64  \n",
      " 10  camcol     10000 non-null  int64  \n",
      " 11  field      10000 non-null  int64  \n",
      " 12  specobjid  10000 non-null  float64\n",
      " 13  class      10000 non-null  object \n",
      " 14  redshift   10000 non-null  float64\n",
      " 15  plate      10000 non-null  int64  \n",
      " 16  mjd        10000 non-null  int64  \n",
      " 17  fiberid    10000 non-null  int64  \n",
      "dtypes: float64(10), int64(7), object(1)\n",
      "memory usage: 1.4+ MB\n"
     ]
    }
   ],
   "source": [
    "sdss.info()"
   ]
  },
  {
   "cell_type": "code",
   "execution_count": 287,
   "metadata": {},
   "outputs": [
    {
     "name": "stdout",
     "output_type": "stream",
     "text": [
      "<class 'pandas.core.frame.DataFrame'>\n",
      "RangeIndex: 10000 entries, 0 to 9999\n",
      "Data columns (total 18 columns):\n",
      " #   Column     Non-Null Count  Dtype  \n",
      "---  ------     --------------  -----  \n",
      " 0   objid      10000 non-null  float64\n",
      " 1   ra         10000 non-null  float64\n",
      " 2   dec        10000 non-null  float64\n",
      " 3   u          10000 non-null  float64\n",
      " 4   g          10000 non-null  float64\n",
      " 5   r          10000 non-null  float64\n",
      " 6   i          10000 non-null  float64\n",
      " 7   z          10000 non-null  float64\n",
      " 8   run        10000 non-null  int64  \n",
      " 9   rerun      10000 non-null  int64  \n",
      " 10  camcol     10000 non-null  int64  \n",
      " 11  field      10000 non-null  int64  \n",
      " 12  specobjid  10000 non-null  float64\n",
      " 13  class      10000 non-null  int64  \n",
      " 14  redshift   10000 non-null  float64\n",
      " 15  plate      10000 non-null  int64  \n",
      " 16  mjd        10000 non-null  int64  \n",
      " 17  fiberid    10000 non-null  int64  \n",
      "dtypes: float64(10), int64(8)\n",
      "memory usage: 1.4 MB\n"
     ]
    }
   ],
   "source": [
    "## Convert class column to integer\n",
    "sdss[\"class\"]=np.where(sdss[\"class\"]=='QSO','2',sdss[\"class\"])#.astype(int)\n",
    "sdss[\"class\"]=np.where(sdss[\"class\"]=='STAR','0',sdss[\"class\"])#.astype(int)\n",
    "sdss[\"class\"]=np.where(sdss[\"class\"]=='GALAXY','1',sdss[\"class\"])#.astype(int)\n",
    "sdssc=sdss.astype({'class':int})\n",
    "sdssc.info()"
   ]
  },
  {
   "cell_type": "code",
   "execution_count": 288,
   "metadata": {},
   "outputs": [
    {
     "data": {
      "text/html": [
       "<div>\n",
       "<style scoped>\n",
       "    .dataframe tbody tr th:only-of-type {\n",
       "        vertical-align: middle;\n",
       "    }\n",
       "\n",
       "    .dataframe tbody tr th {\n",
       "        vertical-align: top;\n",
       "    }\n",
       "\n",
       "    .dataframe thead th {\n",
       "        text-align: right;\n",
       "    }\n",
       "</style>\n",
       "<table border=\"1\" class=\"dataframe\">\n",
       "  <thead>\n",
       "    <tr style=\"text-align: right;\">\n",
       "      <th></th>\n",
       "      <th>objid</th>\n",
       "      <th>ra</th>\n",
       "      <th>dec</th>\n",
       "      <th>u</th>\n",
       "      <th>g</th>\n",
       "      <th>r</th>\n",
       "      <th>i</th>\n",
       "      <th>z</th>\n",
       "      <th>run</th>\n",
       "      <th>rerun</th>\n",
       "      <th>camcol</th>\n",
       "      <th>field</th>\n",
       "      <th>specobjid</th>\n",
       "      <th>class</th>\n",
       "      <th>redshift</th>\n",
       "      <th>plate</th>\n",
       "      <th>mjd</th>\n",
       "      <th>fiberid</th>\n",
       "    </tr>\n",
       "  </thead>\n",
       "  <tbody>\n",
       "    <tr>\n",
       "      <th>count</th>\n",
       "      <td>1.000000e+04</td>\n",
       "      <td>10000.000000</td>\n",
       "      <td>10000.000000</td>\n",
       "      <td>10000.000000</td>\n",
       "      <td>10000.000000</td>\n",
       "      <td>10000.000000</td>\n",
       "      <td>10000.000000</td>\n",
       "      <td>10000.000000</td>\n",
       "      <td>10000.000000</td>\n",
       "      <td>10000.0</td>\n",
       "      <td>10000.000000</td>\n",
       "      <td>10000.000000</td>\n",
       "      <td>1.000000e+04</td>\n",
       "      <td>10000.000000</td>\n",
       "      <td>10000.000000</td>\n",
       "      <td>10000.000000</td>\n",
       "      <td>10000.000000</td>\n",
       "      <td>10000.000000</td>\n",
       "    </tr>\n",
       "    <tr>\n",
       "      <th>mean</th>\n",
       "      <td>1.237650e+18</td>\n",
       "      <td>175.529987</td>\n",
       "      <td>14.836148</td>\n",
       "      <td>18.619355</td>\n",
       "      <td>17.371931</td>\n",
       "      <td>16.840963</td>\n",
       "      <td>16.583579</td>\n",
       "      <td>16.422833</td>\n",
       "      <td>981.034800</td>\n",
       "      <td>301.0</td>\n",
       "      <td>3.648700</td>\n",
       "      <td>302.380100</td>\n",
       "      <td>1.645022e+18</td>\n",
       "      <td>0.669800</td>\n",
       "      <td>0.143726</td>\n",
       "      <td>1460.986400</td>\n",
       "      <td>52943.533300</td>\n",
       "      <td>353.069400</td>\n",
       "    </tr>\n",
       "    <tr>\n",
       "      <th>std</th>\n",
       "      <td>0.000000e+00</td>\n",
       "      <td>47.783439</td>\n",
       "      <td>25.212207</td>\n",
       "      <td>0.828656</td>\n",
       "      <td>0.945457</td>\n",
       "      <td>1.067764</td>\n",
       "      <td>1.141805</td>\n",
       "      <td>1.203188</td>\n",
       "      <td>273.305024</td>\n",
       "      <td>0.0</td>\n",
       "      <td>1.666183</td>\n",
       "      <td>162.577763</td>\n",
       "      <td>2.013998e+18</td>\n",
       "      <td>0.625465</td>\n",
       "      <td>0.388774</td>\n",
       "      <td>1788.778371</td>\n",
       "      <td>1511.150651</td>\n",
       "      <td>206.298149</td>\n",
       "    </tr>\n",
       "    <tr>\n",
       "      <th>min</th>\n",
       "      <td>1.237650e+18</td>\n",
       "      <td>8.235100</td>\n",
       "      <td>-5.382632</td>\n",
       "      <td>12.988970</td>\n",
       "      <td>12.799550</td>\n",
       "      <td>12.431600</td>\n",
       "      <td>11.947210</td>\n",
       "      <td>11.610410</td>\n",
       "      <td>308.000000</td>\n",
       "      <td>301.0</td>\n",
       "      <td>1.000000</td>\n",
       "      <td>11.000000</td>\n",
       "      <td>2.995780e+17</td>\n",
       "      <td>0.000000</td>\n",
       "      <td>-0.004136</td>\n",
       "      <td>266.000000</td>\n",
       "      <td>51578.000000</td>\n",
       "      <td>1.000000</td>\n",
       "    </tr>\n",
       "    <tr>\n",
       "      <th>25%</th>\n",
       "      <td>1.237650e+18</td>\n",
       "      <td>157.370946</td>\n",
       "      <td>-0.539035</td>\n",
       "      <td>18.178035</td>\n",
       "      <td>16.815100</td>\n",
       "      <td>16.173333</td>\n",
       "      <td>15.853705</td>\n",
       "      <td>15.618285</td>\n",
       "      <td>752.000000</td>\n",
       "      <td>301.0</td>\n",
       "      <td>2.000000</td>\n",
       "      <td>184.000000</td>\n",
       "      <td>3.389248e+17</td>\n",
       "      <td>0.000000</td>\n",
       "      <td>0.000081</td>\n",
       "      <td>301.000000</td>\n",
       "      <td>51900.000000</td>\n",
       "      <td>186.750000</td>\n",
       "    </tr>\n",
       "    <tr>\n",
       "      <th>50%</th>\n",
       "      <td>1.237650e+18</td>\n",
       "      <td>180.394514</td>\n",
       "      <td>0.404166</td>\n",
       "      <td>18.853095</td>\n",
       "      <td>17.495135</td>\n",
       "      <td>16.858770</td>\n",
       "      <td>16.554985</td>\n",
       "      <td>16.389945</td>\n",
       "      <td>756.000000</td>\n",
       "      <td>301.0</td>\n",
       "      <td>4.000000</td>\n",
       "      <td>299.000000</td>\n",
       "      <td>4.966580e+17</td>\n",
       "      <td>1.000000</td>\n",
       "      <td>0.042591</td>\n",
       "      <td>441.000000</td>\n",
       "      <td>51997.000000</td>\n",
       "      <td>351.000000</td>\n",
       "    </tr>\n",
       "    <tr>\n",
       "      <th>75%</th>\n",
       "      <td>1.237650e+18</td>\n",
       "      <td>201.547279</td>\n",
       "      <td>35.649397</td>\n",
       "      <td>19.259232</td>\n",
       "      <td>18.010145</td>\n",
       "      <td>17.512675</td>\n",
       "      <td>17.258550</td>\n",
       "      <td>17.141447</td>\n",
       "      <td>1331.000000</td>\n",
       "      <td>301.0</td>\n",
       "      <td>5.000000</td>\n",
       "      <td>414.000000</td>\n",
       "      <td>2.881300e+18</td>\n",
       "      <td>1.000000</td>\n",
       "      <td>0.092579</td>\n",
       "      <td>2559.000000</td>\n",
       "      <td>54468.000000</td>\n",
       "      <td>510.000000</td>\n",
       "    </tr>\n",
       "    <tr>\n",
       "      <th>max</th>\n",
       "      <td>1.237650e+18</td>\n",
       "      <td>260.884382</td>\n",
       "      <td>68.542265</td>\n",
       "      <td>19.599900</td>\n",
       "      <td>19.918970</td>\n",
       "      <td>24.802040</td>\n",
       "      <td>28.179630</td>\n",
       "      <td>22.833060</td>\n",
       "      <td>1412.000000</td>\n",
       "      <td>301.0</td>\n",
       "      <td>6.000000</td>\n",
       "      <td>768.000000</td>\n",
       "      <td>9.468830e+18</td>\n",
       "      <td>2.000000</td>\n",
       "      <td>5.353854</td>\n",
       "      <td>8410.000000</td>\n",
       "      <td>57481.000000</td>\n",
       "      <td>1000.000000</td>\n",
       "    </tr>\n",
       "  </tbody>\n",
       "</table>\n",
       "</div>"
      ],
      "text/plain": [
       "              objid            ra           dec             u             g  \\\n",
       "count  1.000000e+04  10000.000000  10000.000000  10000.000000  10000.000000   \n",
       "mean   1.237650e+18    175.529987     14.836148     18.619355     17.371931   \n",
       "std    0.000000e+00     47.783439     25.212207      0.828656      0.945457   \n",
       "min    1.237650e+18      8.235100     -5.382632     12.988970     12.799550   \n",
       "25%    1.237650e+18    157.370946     -0.539035     18.178035     16.815100   \n",
       "50%    1.237650e+18    180.394514      0.404166     18.853095     17.495135   \n",
       "75%    1.237650e+18    201.547279     35.649397     19.259232     18.010145   \n",
       "max    1.237650e+18    260.884382     68.542265     19.599900     19.918970   \n",
       "\n",
       "                  r             i             z           run    rerun  \\\n",
       "count  10000.000000  10000.000000  10000.000000  10000.000000  10000.0   \n",
       "mean      16.840963     16.583579     16.422833    981.034800    301.0   \n",
       "std        1.067764      1.141805      1.203188    273.305024      0.0   \n",
       "min       12.431600     11.947210     11.610410    308.000000    301.0   \n",
       "25%       16.173333     15.853705     15.618285    752.000000    301.0   \n",
       "50%       16.858770     16.554985     16.389945    756.000000    301.0   \n",
       "75%       17.512675     17.258550     17.141447   1331.000000    301.0   \n",
       "max       24.802040     28.179630     22.833060   1412.000000    301.0   \n",
       "\n",
       "             camcol         field     specobjid         class      redshift  \\\n",
       "count  10000.000000  10000.000000  1.000000e+04  10000.000000  10000.000000   \n",
       "mean       3.648700    302.380100  1.645022e+18      0.669800      0.143726   \n",
       "std        1.666183    162.577763  2.013998e+18      0.625465      0.388774   \n",
       "min        1.000000     11.000000  2.995780e+17      0.000000     -0.004136   \n",
       "25%        2.000000    184.000000  3.389248e+17      0.000000      0.000081   \n",
       "50%        4.000000    299.000000  4.966580e+17      1.000000      0.042591   \n",
       "75%        5.000000    414.000000  2.881300e+18      1.000000      0.092579   \n",
       "max        6.000000    768.000000  9.468830e+18      2.000000      5.353854   \n",
       "\n",
       "              plate           mjd       fiberid  \n",
       "count  10000.000000  10000.000000  10000.000000  \n",
       "mean    1460.986400  52943.533300    353.069400  \n",
       "std     1788.778371   1511.150651    206.298149  \n",
       "min      266.000000  51578.000000      1.000000  \n",
       "25%      301.000000  51900.000000    186.750000  \n",
       "50%      441.000000  51997.000000    351.000000  \n",
       "75%     2559.000000  54468.000000    510.000000  \n",
       "max     8410.000000  57481.000000   1000.000000  "
      ]
     },
     "execution_count": 288,
     "metadata": {},
     "output_type": "execute_result"
    }
   ],
   "source": [
    "sdssc.describe()"
   ]
  },
  {
   "cell_type": "code",
   "execution_count": 139,
   "metadata": {},
   "outputs": [
    {
     "name": "stdout",
     "output_type": "stream",
     "text": [
      "objid        float64\n",
      "ra           float64\n",
      "dec          float64\n",
      "u            float64\n",
      "g            float64\n",
      "r            float64\n",
      "i            float64\n",
      "z            float64\n",
      "run            int64\n",
      "rerun          int64\n",
      "camcol         int64\n",
      "field          int64\n",
      "specobjid    float64\n",
      "class         object\n",
      "redshift     float64\n",
      "plate          int64\n",
      "mjd            int64\n",
      "fiberid        int64\n",
      "dtype: object\n"
     ]
    },
    {
     "data": {
      "text/plain": [
       "'from sklearn.compose import ColumnTransformer\\nfrom sklearn.pipeline import Pipeline\\nfrom sklearn.preprocessing import OneHotEncoder\\nfrom sklearn.preprocessing import StandardScaler\\n\\nnum_pipeline=Pipeline([\\n    (\\'std_scaler\\',StandardScaler())\\n])\\nsdss_num=sdss.drop(\"class\",axis=1)\\nnum_attribs = list(sdss_num)\\ncat_attribs = [\"class\"]\\nfull_pipeline = ColumnTransformer([\\n    (\"num\",num_pipeline,num_attribs),\\n    (\"cat\",OneHotEncoder(),cat_attribs)\\n])\\nsdss_prepared=full_pipeline.fit_transform(sdss)\\n'"
      ]
     },
     "execution_count": 139,
     "metadata": {},
     "output_type": "execute_result"
    }
   ],
   "source": [
    "\n",
    "## A better way\n",
    "from sklearn.preprocessing import OrdinalEncoder\n",
    "#ordinalencoder=OrdinalEncoder()\n",
    "#strclass=sdss[[\"class\"]]\n",
    "#print(strclass[:10])\n",
    "#intclass=ordinalencoder.fit_transform(strclass)\n",
    "#print(intclass[:10])\n",
    "\n",
    "### A better way\n",
    "'''from sklearn.compose import ColumnTransformer\n",
    "from sklearn.pipeline import Pipeline\n",
    "from sklearn.preprocessing import OneHotEncoder\n",
    "from sklearn.preprocessing import StandardScaler\n",
    "\n",
    "num_pipeline=Pipeline([\n",
    "    ('std_scaler',StandardScaler())\n",
    "])\n",
    "sdss_num=sdss.drop(\"class\",axis=1)\n",
    "num_attribs = list(sdss_num)\n",
    "cat_attribs = [\"class\"]\n",
    "full_pipeline = ColumnTransformer([\n",
    "    (\"num\",num_pipeline,num_attribs),\n",
    "    (\"cat\",OneHotEncoder(),cat_attribs)\n",
    "])\n",
    "sdss_prepared=full_pipeline.fit_transform(sdss)\n",
    "'''"
   ]
  },
  {
   "cell_type": "code",
   "execution_count": 289,
   "metadata": {},
   "outputs": [
    {
     "data": {
      "text/plain": [
       "<AxesSubplot:xlabel='ra', ylabel='dec'>"
      ]
     },
     "execution_count": 289,
     "metadata": {},
     "output_type": "execute_result"
    },
    {
     "data": {
      "image/png": "[encoded data removed]",
      "text/plain": [
       "<Figure size 432x288 with 2 Axes>"
      ]
     },
     "metadata": {
      "needs_background": "light"
     },
     "output_type": "display_data"
    }
   ],
   "source": [
    "#Visualize the data\n",
    "sdssc.plot(kind=\"scatter\",x=\"ra\",y=\"dec\",c=\"class\",alpha=0.1,cmap=plt.get_cmap(\"jet\"),colorbar=True)"
   ]
  },
  {
   "cell_type": "code",
   "execution_count": 290,
   "metadata": {},
   "outputs": [
    {
     "data": {
      "text/plain": [
       "<AxesSubplot:xlabel='redshift', ylabel='plate'>"
      ]
     },
     "execution_count": 290,
     "metadata": {},
     "output_type": "execute_result"
    },
    {
     "data": {
      "image/png": "[encoded data removed]",
      "text/plain": [
       "<Figure size 432x288 with 1 Axes>"
      ]
     },
     "metadata": {
      "needs_background": "light"
     },
     "output_type": "display_data"
    }
   ],
   "source": [
    "sdssc.plot(kind=\"scatter\",x='redshift',y='plate')\n",
    "#This is going to cause problems, because there are really weird, nonlinear correlations that will mess things up"
   ]
  },
  {
   "cell_type": "code",
   "execution_count": 300,
   "metadata": {},
   "outputs": [
    {
     "name": "stdout",
     "output_type": "stream",
     "text": [
      "(8000, 18)\n",
      "(8000,)\n"
     ]
    },
    {
     "data": {
      "text/plain": [
       "(array([6.424e+03, 9.300e+02, 5.100e+01, 3.300e+01, 2.900e+01, 2.300e+01,\n",
       "        2.900e+01, 2.900e+01, 3.300e+01, 2.700e+01, 3.100e+01, 3.800e+01,\n",
       "        4.000e+01, 3.100e+01, 3.500e+01, 3.900e+01, 3.800e+01, 3.600e+01,\n",
       "        2.800e+01, 2.300e+01, 1.800e+01, 1.000e+01, 4.000e+00, 9.000e+00,\n",
       "        3.000e+00, 2.000e+00, 1.000e+00, 1.000e+00, 1.000e+00, 0.000e+00,\n",
       "        0.000e+00, 0.000e+00, 0.000e+00, 0.000e+00, 0.000e+00, 1.000e+00,\n",
       "        1.000e+00, 0.000e+00, 1.000e+00, 0.000e+00, 0.000e+00, 0.000e+00,\n",
       "        0.000e+00, 0.000e+00, 0.000e+00, 0.000e+00, 0.000e+00, 0.000e+00,\n",
       "        0.000e+00, 1.000e+00]),\n",
       " array([-4.13607800e-03,  1.03023724e-01,  2.10183525e-01,  3.17343327e-01,\n",
       "         4.24503128e-01,  5.31662930e-01,  6.38822731e-01,  7.45982533e-01,\n",
       "         8.53142334e-01,  9.60302136e-01,  1.06746194e+00,  1.17462174e+00,\n",
       "         1.28178154e+00,  1.38894134e+00,  1.49610114e+00,  1.60326095e+00,\n",
       "         1.71042075e+00,  1.81758055e+00,  1.92474035e+00,  2.03190015e+00,\n",
       "         2.13905995e+00,  2.24621975e+00,  2.35337956e+00,  2.46053936e+00,\n",
       "         2.56769916e+00,  2.67485896e+00,  2.78201876e+00,  2.88917856e+00,\n",
       "         2.99633837e+00,  3.10349817e+00,  3.21065797e+00,  3.31781777e+00,\n",
       "         3.42497757e+00,  3.53213737e+00,  3.63929718e+00,  3.74645698e+00,\n",
       "         3.85361678e+00,  3.96077658e+00,  4.06793638e+00,  4.17509618e+00,\n",
       "         4.28225598e+00,  4.38941579e+00,  4.49657559e+00,  4.60373539e+00,\n",
       "         4.71089519e+00,  4.81805499e+00,  4.92521479e+00,  5.03237460e+00,\n",
       "         5.13953440e+00,  5.24669420e+00,  5.35385400e+00]),\n",
       " <BarContainer object of 50 artists>)"
      ]
     },
     "execution_count": 300,
     "metadata": {},
     "output_type": "execute_result"
    },
    {
     "data": {
      "image/png": "[encoded data removed]",
      "text/plain": [
       "<Figure size 432x288 with 1 Axes>"
      ]
     },
     "metadata": {
      "needs_background": "light"
     },
     "output_type": "display_data"
    }
   ],
   "source": [
    "#Get a training set \n",
    "X_train_full=sdssc[:8000]\n",
    "y_train_label=X_train_full[\"redshift\"]\n",
    "print(X_train_full.shape)\n",
    "print(y_train_label.shape)\n",
    "# Look at correlations\n",
    "corr_matrix=X_train_full.corr()\n",
    "corr_matrix[\"redshift\"].sort_values(ascending=False)\n",
    "#corr_matrix[\"class\"].sort_values(ascending=False)\n",
    "plt.hist(y_train_label,bins=50)"
   ]
  },
  {
   "cell_type": "code",
   "execution_count": 306,
   "metadata": {},
   "outputs": [
    {
     "name": "stdout",
     "output_type": "stream",
     "text": [
      "(8000, 18) (8000, 17)\n"
     ]
    }
   ],
   "source": [
    "X_train=X_train_full.drop(\"redshift\",axis=1)#,inplace=True)\n",
    "print(X_train_full.shape,X_train.shape)"
   ]
  },
  {
   "cell_type": "code",
   "execution_count": 307,
   "metadata": {},
   "outputs": [
    {
     "name": "stdout",
     "output_type": "stream",
     "text": [
      "Score= 0.0016531700517375958\n"
     ]
    },
    {
     "data": {
      "text/plain": [
       "'The coefficient R^2 is defined as (1-u/v), where u is the residual \\nsum of squares ((y_true - y_pred) ** 2).sum() and v is the total sum \\nof squares ((y_true - y_true.mean()) ** 2).sum()'"
      ]
     },
     "execution_count": 307,
     "metadata": {},
     "output_type": "execute_result"
    },
    {
     "data": {
      "image/png": "[encoded data removed]",
      "text/plain": [
       "<Figure size 432x288 with 1 Axes>"
      ]
     },
     "metadata": {
      "needs_background": "light"
     },
     "output_type": "display_data"
    }
   ],
   "source": [
    "from sklearn.linear_model import LinearRegression\n",
    "lin_reg=LinearRegression()\n",
    "result=lin_reg.fit(X_train,y_train_label)\n",
    "plt.hist(lin_reg.predict(X_train),bins=50)\n",
    "##There are a variety of scores one can use.\n",
    "## The simplest is the one in the method:\n",
    "print('Score= '+str(lin_reg.score(X_train,y_train_label)))\n",
    "'''The coefficient R^2 is defined as (1-u/v), where u is the residual \n",
    "sum of squares ((y_true - y_pred) ** 2).sum() and v is the total sum \n",
    "of squares ((y_true - y_true.mean()) ** 2).sum()'''\n"
   ]
  },
  {
   "cell_type": "code",
   "execution_count": 308,
   "metadata": {},
   "outputs": [
    {
     "name": "stdout",
     "output_type": "stream",
     "text": [
      "[ 1.42054841e-52  0.00000000e+00 -2.86507544e-38 -6.55253365e-38\n",
      "  3.22320987e-38  2.68932429e-38  2.09574963e-38 -1.73761520e-38\n",
      " -3.96441550e-36  0.00000000e+00  1.37616471e-39  3.60787278e-37\n",
      " -7.79923896e-21 -1.79067215e-39  6.79128994e-38  3.17832369e-35\n",
      "  1.61293136e-37]\n"
     ]
    }
   ],
   "source": [
    "### Clearly, does not work so well. Let's see why.\n",
    "### Some of its attributes\n",
    "coeff=result.coef_\n",
    "print((coeff))\n",
    "### The problem is the mismatched amplitudes of the features\n"
   ]
  },
  {
   "cell_type": "code",
   "execution_count": 309,
   "metadata": {},
   "outputs": [
    {
     "name": "stdout",
     "output_type": "stream",
     "text": [
      "[ 2.42434976e-20 -1.75893032e-04 -2.81986867e-04 -8.16875598e-02\n",
      "  3.55724847e-02 -1.97856117e-01  1.12761866e-02  2.57777170e-01\n",
      " -2.25890893e-05  2.91509787e-06  1.00917842e-03  9.62363583e-05\n",
      "  3.33518524e-15  5.09374750e-01 -3.75513168e+00  1.23636302e-04\n",
      " -9.28423057e-04]\n",
      "[-0.26273883 -0.2934733 ]\n",
      "0   -0.000009\n",
      "1   -0.000055\n",
      "Name: redshift, dtype: float64\n",
      "Score= 0.6026366085710293\n"
     ]
    },
    {
     "data": {
      "image/png": "[encoded data removed]",
      "text/plain": [
       "<Figure size 432x288 with 1 Axes>"
      ]
     },
     "metadata": {
      "needs_background": "light"
     },
     "output_type": "display_data"
    }
   ],
   "source": [
    "### Do it again this time normalizing:\n",
    "lin_reg=LinearRegression(normalize=True)\n",
    "result_norm=lin_reg.fit(X_train,y_train_label)\n",
    "coeff_norm=result_norm.coef_\n",
    "print(coeff_norm)\n",
    "print(lin_reg.predict(X_train[:2]))\n",
    "#print((X_train_full[:2]))\n",
    "print(y_train_label[:2])\n",
    "#plt.hist(lin_reg.predict(X_train_full),bins=50)\n",
    "plt.scatter(lin_reg.predict(X_train),y_train_label)\n",
    "plt.xlabel('$z_{predicted}$')\n",
    "plt.ylabel('$z_{true}$')\n",
    "plt.axis([0,5.5,0,5.5])\n",
    "print('Score= '+str(lin_reg.score(X_train,y_train_label)))\n"
   ]
  },
  {
   "cell_type": "code",
   "execution_count": 310,
   "metadata": {},
   "outputs": [
    {
     "name": "stdout",
     "output_type": "stream",
     "text": [
      "objid 2.4243497590305403e-20\n",
      "specobjid 3.3351852409905164e-15\n",
      "rerun 2.9150978662073612e-06\n",
      "run -2.2589089282925396e-05\n",
      "field 9.623635825549458e-05\n",
      "mjd 0.00012363630172444612\n",
      "ra -0.0001758930324538462\n",
      "dec -0.00028198686744150206\n",
      "fiberid -0.0009284230568181713\n",
      "camcol 0.0010091784218195698\n",
      "i 0.011276186601795527\n",
      "g 0.035572484721908625\n",
      "u -0.0816875597850755\n",
      "r -0.19785611657835087\n",
      "z 0.2577771698779524\n",
      "class 0.5093747501057637\n",
      "plate -3.7551316843880076\n",
      "Index(['objid', 'ra', 'dec', 'u', 'g', 'r', 'i', 'z', 'run', 'rerun', 'camcol',\n",
      "       'field', 'specobjid', 'class', 'plate', 'mjd', 'fiberid'],\n",
      "      dtype='object')\n"
     ]
    }
   ],
   "source": [
    "### This does better but still not well. \n",
    "### Look at the coefficients that are largest here are:\n",
    "ind=np.argsort(np.abs(coeff_norm))\n",
    "for i in ind:\n",
    "    print(X_train.columns[i],coeff_norm[i])\n",
    "print(X_train.columns)"
   ]
  },
  {
   "cell_type": "markdown",
   "metadata": {},
   "source": [
    "It makes sense that the colors and the type have relatively large coefficients and the class since stars will have very low redshifts and galaxies and QSO'S will have much larger ones. (It does not make sense to me that plate carries any weight.) Indeed it seems likely that the problem is that the class coefficient is trying to push all the stars to have low z and might even be doing that correctly. Let's see."
   ]
  },
  {
   "cell_type": "code",
   "execution_count": 311,
   "metadata": {},
   "outputs": [
    {
     "name": "stdout",
     "output_type": "stream",
     "text": [
      "()\n"
     ]
    },
    {
     "data": {
      "image/png": "[encoded data removed]",
      "text/plain": [
       "<Figure size 432x288 with 1 Axes>"
      ]
     },
     "metadata": {
      "needs_background": "light"
     },
     "output_type": "display_data"
    }
   ],
   "source": [
    "stars=X_train[X_train[\"class\"]==0]\n",
    "starz=y_train_label[X_train[\"class\"]==0]\n",
    "print(np.shape(result_norm))\n",
    "stars_predict=result_norm.predict(stars)\n",
    "plt.scatter(starz,stars_predict)\n",
    "plt.show()"
   ]
  },
  {
   "cell_type": "markdown",
   "metadata": {},
   "source": [
    "Still does not do very well. Let's fit the stars only"
   ]
  },
  {
   "cell_type": "code",
   "execution_count": 312,
   "metadata": {},
   "outputs": [
    {
     "data": {
      "image/png": "[encoded data removed]",
      "text/plain": [
       "<Figure size 432x288 with 1 Axes>"
      ]
     },
     "metadata": {
      "needs_background": "light"
     },
     "output_type": "display_data"
    }
   ],
   "source": [
    "stars_predict=lin_reg.fit(stars,starz)\n",
    "plt.scatter(starz,stars_predict.predict(stars))\n",
    "plt.show()"
   ]
  },
  {
   "cell_type": "code",
   "execution_count": 313,
   "metadata": {},
   "outputs": [
    {
     "name": "stdout",
     "output_type": "stream",
     "text": [
      "objid 7.56826315197272e-23\n",
      "specobjid -1.1614198938732283e-18\n",
      "rerun 1.2208900557197921e-10\n",
      "class 2.9055513550702017e-10\n",
      "mjd 3.444993737203097e-08\n",
      "run -3.2975994743729206e-07\n",
      "fiberid 3.298863373446699e-07\n",
      "field -7.762013347197355e-07\n",
      "camcol -1.0170333448267791e-06\n",
      "ra 1.125298854499803e-06\n",
      "dec -3.470690273084698e-06\n",
      "i -1.1558476543909375e-05\n",
      "z -1.947920264178276e-05\n",
      "g 2.919160479472204e-05\n",
      "u -3.267618055366696e-05\n",
      "r 4.60541863078619e-05\n",
      "plate 0.0013076215988152113\n"
     ]
    }
   ],
   "source": [
    "#Still does not do well; let's look at the coefficients:\n",
    "stars_co=stars_predict.coef_\n",
    "ind=np.argsort(np.abs(stars_co))\n",
    "for i in ind:\n",
    "    print(X_train.columns[i],stars_co[i])\n"
   ]
  },
  {
   "cell_type": "code",
   "execution_count": 315,
   "metadata": {},
   "outputs": [
    {
     "data": {
      "image/png": "[encoded data removed]",
      "text/plain": [
       "<Figure size 432x288 with 1 Axes>"
      ]
     },
     "metadata": {
      "needs_background": "light"
     },
     "output_type": "display_data"
    }
   ],
   "source": [
    "# The plate deature may be causing all the problems. Let's remove that and see what happens.\n",
    "X_train_np=X_train.drop(\"plate\",axis=1)#,inplace=True)\n",
    "stars=X_train_np[X_train_np[\"class\"]==0]\n",
    "starz=y_train_label[X_train_np[\"class\"]==0]\n",
    "stars_predict=lin_reg.fit(stars,starz)\n",
    "plt.scatter(starz,stars_predict.predict(stars))\n",
    "plt.show()"
   ]
  },
  {
   "cell_type": "code",
   "execution_count": 316,
   "metadata": {},
   "outputs": [
    {
     "name": "stdout",
     "output_type": "stream",
     "text": [
      "class 0.0\n",
      "specobjid -1.8674170796059264e-23\n",
      "objid 7.568263151972721e-23\n",
      "rerun -6.613633252161577e-18\n",
      "plate 1.0957377373504488e-08\n",
      "redshift 3.4478863453480476e-08\n",
      "run -3.295868201558269e-07\n",
      "field -7.770568494110696e-07\n",
      "camcol -1.0289173073389898e-06\n",
      "ra 1.1275922786620005e-06\n",
      "dec -3.4744169575300873e-06\n",
      "i -1.1367541520878301e-05\n",
      "z -1.9679301935310795e-05\n",
      "g 2.900397138949407e-05\n",
      "u -3.266364155519483e-05\n",
      "r 4.621095030268859e-05\n"
     ]
    }
   ],
   "source": [
    "#Still does not do well; let's look at the coefficients:\n",
    "stars_co=stars_predict.coef_\n",
    "ind=np.argsort(np.abs(stars_co))\n",
    "for i in ind:\n",
    "    print(X_train_full.columns[i],stars_co[i])\n"
   ]
  },
  {
   "cell_type": "code",
   "execution_count": 317,
   "metadata": {},
   "outputs": [
    {
     "name": "stdout",
     "output_type": "stream",
     "text": [
      "Score= 0.14033152663314052\n"
     ]
    }
   ],
   "source": [
    "# That's not the problem. Let's see the score\n",
    "print('Score= '+str(lin_reg.score(stars,starz)))\n"
   ]
  },
  {
   "cell_type": "code",
   "execution_count": 318,
   "metadata": {},
   "outputs": [
    {
     "name": "stdout",
     "output_type": "stream",
     "text": [
      "Score= 0.3233106471941406\n"
     ]
    },
    {
     "data": {
      "image/png": "[encoded data removed]",
      "text/plain": [
       "<Figure size 432x288 with 1 Axes>"
      ]
     },
     "metadata": {
      "needs_background": "light"
     },
     "output_type": "display_data"
    }
   ],
   "source": [
    "# Maybe there are too many types of stars to do well. Let's try it on galaxies.\n",
    "galaxies=X_train_np[X_train_full[\"class\"]==1]\n",
    "galaxies_z=y_train_label[X_train_full[\"class\"]==1]\n",
    "galaxies_predict=lin_reg.fit(galaxies,galaxies_z)\n",
    "plt.scatter(galaxies_z,galaxies_predict.predict(galaxies))\n",
    "print('Score= '+str(lin_reg.score(galaxies,galaxies_z)))\n",
    "plt.show()"
   ]
  },
  {
   "cell_type": "code",
   "execution_count": 323,
   "metadata": {},
   "outputs": [
    {
     "name": "stdout",
     "output_type": "stream",
     "text": [
      "objid 0.0\n",
      "specobjid -1.451314900226078e-19\n",
      "rerun 5.329070518200751e-15\n",
      "class 7.105427357601002e-15\n",
      "run 7.79656569570236e-05\n",
      "plate 0.00012548536061268684\n",
      "ra 0.0001920769078793085\n",
      "field 0.00029466567846620097\n",
      "redshift 0.00032450187173579096\n",
      "dec -0.0029540664477517163\n",
      "camcol -0.01845987319970449\n",
      "u 0.12225701972746957\n",
      "i -0.7541308203022823\n",
      "z 0.7573853065773377\n",
      "g -0.8948261168590499\n",
      "r 1.0036026666445217\n"
     ]
    },
    {
     "data": {
      "image/png": "[encoded data removed]",
      "text/plain": [
       "<Figure size 432x288 with 1 Axes>"
      ]
     },
     "metadata": {
      "needs_background": "light"
     },
     "output_type": "display_data"
    }
   ],
   "source": [
    "#That looks ok\n",
    "gals_co=galaxies_predict.coef_\n",
    "ind=np.argsort(np.abs(gals_co))\n",
    "for i in ind:\n",
    "    print(X_train_full.columns[i],gals_co[i])\n",
    "plt.scatter(galaxies_z,(galaxies_z-galaxies_predict.predict(galaxies))/(1.+galaxies_z))\n",
    "plt.show()"
   ]
  },
  {
   "cell_type": "code",
   "execution_count": 326,
   "metadata": {},
   "outputs": [
    {
     "data": {
      "image/png": "[encoded data removed]",
      "text/plain": [
       "<Figure size 432x288 with 1 Axes>"
      ]
     },
     "metadata": {
      "needs_background": "light"
     },
     "output_type": "display_data"
    }
   ],
   "source": [
    "# Heatmap is cooler\n",
    "heatmap, xedges, yedges = np.histogram2d(galaxies_z,galaxies_predict.predict(galaxies), bins=50)\n",
    "extent = [0,.3,0,.3]\n",
    "\n",
    "plt.clf()\n",
    "plt.imshow(heatmap.T, extent=extent, origin='lower')\n",
    "plt.show()"
   ]
  },
  {
   "cell_type": "markdown",
   "metadata": {},
   "source": [
    "Finally try it on QSOs"
   ]
  },
  {
   "cell_type": "code",
   "execution_count": 320,
   "metadata": {},
   "outputs": [
    {
     "name": "stdout",
     "output_type": "stream",
     "text": [
      "Score= 0.3079587529672718\n"
     ]
    },
    {
     "data": {
      "image/png": "[encoded data removed]",
      "text/plain": [
       "<Figure size 432x288 with 1 Axes>"
      ]
     },
     "metadata": {
      "needs_background": "light"
     },
     "output_type": "display_data"
    }
   ],
   "source": [
    "qso=X_train_np[X_train_full[\"class\"]==2]\n",
    "qso_z=y_train_label[X_train_full[\"class\"]==2]\n",
    "qso_predict=lin_reg.fit(qso,qso_z)\n",
    "plt.scatter(qso_z,qso_predict.predict(qso))\n",
    "print('Score= '+str(lin_reg.score(qso,qso_z)))\n",
    "plt.show()"
   ]
  },
  {
   "cell_type": "code",
   "execution_count": 87,
   "metadata": {},
   "outputs": [],
   "source": [
    "model.add(keras.layers.Dense(300,activation=\"relu\"))\n",
    "model.add(keras.layers.Dense(100,activation=\"relu\"))\n",
    "model.add(keras.layers.Dense(10,activation=\"softmax\"))\n"
   ]
  },
  {
   "cell_type": "code",
   "execution_count": 88,
   "metadata": {},
   "outputs": [
    {
     "name": "stdout",
     "output_type": "stream",
     "text": [
      "Model: \"sequential_2\"\n",
      "_________________________________________________________________\n",
      "Layer (type)                 Output Shape              Param #   \n",
      "=================================================================\n",
      "flatten_1 (Flatten)          (None, 784)               0         \n",
      "_________________________________________________________________\n",
      "dense_5 (Dense)              (None, 300)               235500    \n",
      "_________________________________________________________________\n",
      "dense_6 (Dense)              (None, 100)               30100     \n",
      "_________________________________________________________________\n",
      "dense_7 (Dense)              (None, 10)                1010      \n",
      "=================================================================\n",
      "Total params: 266,610\n",
      "Trainable params: 266,610\n",
      "Non-trainable params: 0\n",
      "_________________________________________________________________\n"
     ]
    }
   ],
   "source": [
    "model.summary()"
   ]
  },
  {
   "cell_type": "code",
   "execution_count": 89,
   "metadata": {},
   "outputs": [],
   "source": [
    "model.compile(loss=\"sparse_categorical_crossentropy\",optimizer=\"sgd\",metrics=[\"accuracy\"])"
   ]
  },
  {
   "cell_type": "code",
   "execution_count": 90,
   "metadata": {},
   "outputs": [
    {
     "name": "stdout",
     "output_type": "stream",
     "text": [
      "Epoch 1/30\n",
      "1719/1719 [==============================] - 2s 1ms/step - loss: 0.7292 - accuracy: 0.7620 - val_loss: 0.5572 - val_accuracy: 0.8014\n",
      "Epoch 2/30\n",
      "1719/1719 [==============================] - 2s 1ms/step - loss: 0.4881 - accuracy: 0.8295 - val_loss: 0.4583 - val_accuracy: 0.8420\n",
      "Epoch 3/30\n",
      "1719/1719 [==============================] - 2s 1ms/step - loss: 0.4436 - accuracy: 0.8436 - val_loss: 0.4162 - val_accuracy: 0.8590\n",
      "Epoch 4/30\n",
      "1719/1719 [==============================] - 2s 1ms/step - loss: 0.4158 - accuracy: 0.8545 - val_loss: 0.4085 - val_accuracy: 0.8588\n",
      "Epoch 5/30\n",
      "1719/1719 [==============================] - 2s 1ms/step - loss: 0.3956 - accuracy: 0.8609 - val_loss: 0.3927 - val_accuracy: 0.8622\n",
      "Epoch 6/30\n",
      "1719/1719 [==============================] - 2s 1ms/step - loss: 0.3798 - accuracy: 0.8656 - val_loss: 0.3647 - val_accuracy: 0.8734\n",
      "Epoch 7/30\n",
      "1719/1719 [==============================] - 2s 1ms/step - loss: 0.3645 - accuracy: 0.8717 - val_loss: 0.3581 - val_accuracy: 0.8716\n",
      "Epoch 8/30\n",
      "1719/1719 [==============================] - 2s 1ms/step - loss: 0.3531 - accuracy: 0.8745 - val_loss: 0.3607 - val_accuracy: 0.8728\n",
      "Epoch 9/30\n",
      "1719/1719 [==============================] - 2s 1ms/step - loss: 0.3429 - accuracy: 0.8763 - val_loss: 0.3430 - val_accuracy: 0.8818\n",
      "Epoch 10/30\n",
      "1719/1719 [==============================] - 2s 1ms/step - loss: 0.3324 - accuracy: 0.8817 - val_loss: 0.3496 - val_accuracy: 0.8778\n",
      "Epoch 11/30\n",
      "1719/1719 [==============================] - 2s 1ms/step - loss: 0.3239 - accuracy: 0.8838 - val_loss: 0.3406 - val_accuracy: 0.8784\n",
      "Epoch 12/30\n",
      "1719/1719 [==============================] - 2s 1ms/step - loss: 0.3161 - accuracy: 0.8859 - val_loss: 0.3569 - val_accuracy: 0.8730\n",
      "Epoch 13/30\n",
      "1719/1719 [==============================] - 2s 1ms/step - loss: 0.3079 - accuracy: 0.8897 - val_loss: 0.3309 - val_accuracy: 0.8840\n",
      "Epoch 14/30\n",
      "1719/1719 [==============================] - 2s 1ms/step - loss: 0.3014 - accuracy: 0.8915 - val_loss: 0.3277 - val_accuracy: 0.8810\n",
      "Epoch 15/30\n",
      "1719/1719 [==============================] - 2s 1ms/step - loss: 0.2945 - accuracy: 0.8940 - val_loss: 0.3138 - val_accuracy: 0.8894\n",
      "Epoch 16/30\n",
      "1719/1719 [==============================] - 2s 1ms/step - loss: 0.2893 - accuracy: 0.8953 - val_loss: 0.3299 - val_accuracy: 0.8824\n",
      "Epoch 17/30\n",
      "1719/1719 [==============================] - 2s 1ms/step - loss: 0.2836 - accuracy: 0.8978 - val_loss: 0.3071 - val_accuracy: 0.8866\n",
      "Epoch 18/30\n",
      "1719/1719 [==============================] - 2s 1ms/step - loss: 0.2777 - accuracy: 0.8991 - val_loss: 0.3230 - val_accuracy: 0.8804\n",
      "Epoch 19/30\n",
      "1719/1719 [==============================] - 2s 1ms/step - loss: 0.2722 - accuracy: 0.9014 - val_loss: 0.3178 - val_accuracy: 0.8866\n",
      "Epoch 20/30\n",
      "1719/1719 [==============================] - 2s 1ms/step - loss: 0.2680 - accuracy: 0.9027 - val_loss: 0.3039 - val_accuracy: 0.8902\n",
      "Epoch 21/30\n",
      "1719/1719 [==============================] - 2s 1ms/step - loss: 0.2632 - accuracy: 0.9047 - val_loss: 0.2983 - val_accuracy: 0.8944\n",
      "Epoch 22/30\n",
      "1719/1719 [==============================] - 2s 1ms/step - loss: 0.2577 - accuracy: 0.9068 - val_loss: 0.2961 - val_accuracy: 0.8938\n",
      "Epoch 23/30\n",
      "1719/1719 [==============================] - 2s 1ms/step - loss: 0.2527 - accuracy: 0.9086 - val_loss: 0.3071 - val_accuracy: 0.8892\n",
      "Epoch 24/30\n",
      "1719/1719 [==============================] - 2s 1ms/step - loss: 0.2486 - accuracy: 0.9104 - val_loss: 0.3096 - val_accuracy: 0.8888\n",
      "Epoch 25/30\n",
      "1719/1719 [==============================] - 2s 1ms/step - loss: 0.2439 - accuracy: 0.9118 - val_loss: 0.2889 - val_accuracy: 0.8952\n",
      "Epoch 26/30\n",
      "1719/1719 [==============================] - 2s 1ms/step - loss: 0.2405 - accuracy: 0.9132 - val_loss: 0.3019 - val_accuracy: 0.8928\n",
      "Epoch 27/30\n",
      "1719/1719 [==============================] - 2s 1ms/step - loss: 0.2367 - accuracy: 0.9148 - val_loss: 0.2923 - val_accuracy: 0.8922\n",
      "Epoch 28/30\n",
      "1719/1719 [==============================] - 2s 1ms/step - loss: 0.2326 - accuracy: 0.9159 - val_loss: 0.3078 - val_accuracy: 0.8884\n",
      "Epoch 29/30\n",
      "1719/1719 [==============================] - 2s 1ms/step - loss: 0.2289 - accuracy: 0.9173 - val_loss: 0.2950 - val_accuracy: 0.8886\n",
      "Epoch 30/30\n",
      "1719/1719 [==============================] - 2s 1ms/step - loss: 0.2250 - accuracy: 0.9187 - val_loss: 0.2898 - val_accuracy: 0.8906\n"
     ]
    }
   ],
   "source": [
    "history=model.fit(X_train,y_train,epochs=30,validation_data=(X_valid,y_valid))"
   ]
  },
  {
   "cell_type": "code",
   "execution_count": 91,
   "metadata": {},
   "outputs": [],
   "source": [
    "import pandas as pd\n",
    "import matplotlib.pyplot as plt\n"
   ]
  },
  {
   "cell_type": "code",
   "execution_count": 92,
   "metadata": {},
   "outputs": [
    {
     "data": {
      "text/plain": [
       "<AxesSubplot:>"
      ]
     },
     "execution_count": 92,
     "metadata": {},
     "output_type": "execute_result"
    },
    {
     "data": {
      "image/png": "[encoded data removed]",
      "text/plain": [
       "<Figure size 576x360 with 1 Axes>"
      ]
     },
     "metadata": {
      "needs_background": "light"
     },
     "output_type": "display_data"
    }
   ],
   "source": [
    "pd.DataFrame(history.history).plot(figsize=(8,5))"
   ]
  },
  {
   "cell_type": "code",
   "execution_count": 93,
   "metadata": {},
   "outputs": [
    {
     "name": "stdout",
     "output_type": "stream",
     "text": [
      "(10000, 28, 28) (10000,)\n",
      "313/313 [==============================] - 0s 1ms/step - loss: 54.2674 - accuracy: 0.8613\n"
     ]
    },
    {
     "data": {
      "text/plain": [
       "[54.26737976074219, 0.861299991607666]"
      ]
     },
     "execution_count": 93,
     "metadata": {},
     "output_type": "execute_result"
    }
   ],
   "source": [
    "print(X_test.shape,y_test.shape)\n",
    "model.evaluate(X_test,y_test)\n"
   ]
  },
  {
   "cell_type": "code",
   "execution_count": 139,
   "metadata": {},
   "outputs": [],
   "source": [
    "y_predict=model.predict(X_test)\n",
    "#y_predict = np.around(y_predict)\n",
    "#y_predict = y_predict.astype(int)\n",
    "y_predict_class=np.zeros(10000,dtype=int)\n",
    "for i in range(10000):\n",
    "    y_predict_class[i]=np.argmax(y_predict[i,:])"
   ]
  },
  {
   "cell_type": "code",
   "execution_count": 150,
   "metadata": {},
   "outputs": [],
   "source": [
    "def softmax(ypredict):\n",
    "    n=np.size(ypredict)\n",
    "    den=np.sum(np.exp(ypredict))\n",
    "    return np.exp(ypredict)/den"
   ]
  },
  {
   "cell_type": "code",
   "execution_count": 158,
   "metadata": {},
   "outputs": [
    {
     "name": "stdout",
     "output_type": "stream",
     "text": [
      "-1.599764410686493\n"
     ]
    }
   ],
   "source": [
    "import numpy as np\n",
    "eps=1.e-10\n",
    "ssum=0.\n",
    "for i in range(10000):\n",
    "    ysoft=softmax(y_predict[i,:])\n",
    "    cross=np.log(ysoft[y_test[i]])\n",
    "    #prediction = class_names[np.argmax(y_predict[i,y_test[i]])] \n",
    "    #print(i,class_names[y_test[i]],class_names[y_predict_class[i]])\n",
    "    ssum+=cross\n",
    "print(ssum/10000)"
   ]
  },
  {
   "cell_type": "code",
   "execution_count": 146,
   "metadata": {},
   "outputs": [
    {
     "data": {
      "text/plain": [
       "<matplotlib.image.AxesImage at 0x1548f8588>"
      ]
     },
     "execution_count": 146,
     "metadata": {},
     "output_type": "execute_result"
    },
    {
     "data": {
      "image/png": "[encoded data removed]",
      "text/plain": [
       "<Figure size 432x288 with 1 Axes>"
      ]
     },
     "metadata": {
      "needs_background": "light"
     },
     "output_type": "display_data"
    }
   ],
   "source": [
    "plt.imshow(X_test[8])"
   ]
  },
  {
   "cell_type": "code",
   "execution_count": 42,
   "metadata": {},
   "outputs": [
    {
     "name": "stdout",
     "output_type": "stream",
     "text": [
      "[[0. 0. 0. 1. 0. 0. 0. 0. 0. 0.]\n",
      " [0. 0. 0. 0. 0. 0. 0. 0. 1. 0.]\n",
      " [1. 0. 0. 0. 0. 0. 0. 0. 0. 0.]\n",
      " [0. 0. 0. 0. 0. 0. 0. 1. 0. 0.]\n",
      " [0. 0. 0. 0. 0. 1. 0. 0. 0. 0.]\n",
      " [0. 0. 0. 0. 0. 0. 0. 1. 0. 0.]\n",
      " [0. 0. 0. 0. 0. 0. 0. 0. 0. 1.]]\n"
     ]
    },
    {
     "data": {
      "text/plain": [
       "array([3, 8, 0, 7, 5, 7, 9], dtype=uint8)"
      ]
     },
     "execution_count": 42,
     "metadata": {},
     "output_type": "execute_result"
    }
   ],
   "source": [
    "print(y_proba.round(2))\n",
    "y_new"
   ]
  },
  {
   "cell_type": "code",
   "execution_count": 36,
   "metadata": {},
   "outputs": [
    {
     "data": {
      "text/plain": [
       "<matplotlib.image.AxesImage at 0x155dbcb00>"
      ]
     },
     "execution_count": 36,
     "metadata": {},
     "output_type": "execute_result"
    },
    {
     "data": {
      "image/png": "[encoded data removed]",
      "text/plain": [
       "<Figure size 432x288 with 1 Axes>"
      ]
     },
     "metadata": {
      "needs_background": "light"
     },
     "output_type": "display_data"
    }
   ],
   "source": [
    "plt.imshow(X_new[0])\n",
    "plt.imshow(X_new[1])\n",
    "plt.imshow(X_new[2])"
   ]
  },
  {
   "cell_type": "code",
   "execution_count": 43,
   "metadata": {},
   "outputs": [],
   "source": [
    "from sklearn.datasets import fetch_california_housing\n",
    "from sklearn.model_selection import train_test_split\n",
    "from sklearn.preprocessing import StandardScaler"
   ]
  },
  {
   "cell_type": "code",
   "execution_count": 52,
   "metadata": {},
   "outputs": [
    {
     "data": {
      "text/plain": [
       "(20640, 8)"
      ]
     },
     "execution_count": 52,
     "metadata": {},
     "output_type": "execute_result"
    }
   ],
   "source": [
    "housing=fetch_california_housing()\n",
    "housing.data.shape"
   ]
  },
  {
   "cell_type": "code",
   "execution_count": 53,
   "metadata": {},
   "outputs": [],
   "source": [
    "X_train_full,X_test,y_train_full,y_test = train_test_split(housing.data,housing.target)"
   ]
  },
  {
   "cell_type": "code",
   "execution_count": 55,
   "metadata": {},
   "outputs": [
    {
     "data": {
      "text/plain": [
       "array([ 3.17710000e+00,  1.70000000e+01,  6.38065844e+00,  1.12551440e+00,\n",
       "        1.41000000e+03,  2.90123457e+00,  3.27400000e+01, -1.16990000e+02])"
      ]
     },
     "execution_count": 55,
     "metadata": {},
     "output_type": "execute_result"
    }
   ],
   "source": [
    "X_train,X_valid,y_train,y_valid = train_test_split(X_train_full,y_train_full)\n",
    "X_train[0]"
   ]
  },
  {
   "cell_type": "code",
   "execution_count": 56,
   "metadata": {},
   "outputs": [
    {
     "data": {
      "text/plain": [
       "array([-0.37170721, -0.9233279 ,  0.37230463,  0.06838223, -0.02085647,\n",
       "       -0.01530722, -1.35338809,  1.29746935])"
      ]
     },
     "execution_count": 56,
     "metadata": {},
     "output_type": "execute_result"
    }
   ],
   "source": [
    "scaler=StandardScaler()\n",
    "X_train=scaler.fit_transform(X_train)\n",
    "X_train[0]"
   ]
  },
  {
   "cell_type": "code",
   "execution_count": 57,
   "metadata": {},
   "outputs": [
    {
     "data": {
      "text/plain": [
       "array([ 0.79520889,  0.34805655,  0.1780109 , -0.14621712, -0.49631696,\n",
       "        0.00515214, -0.69920294,  0.82076905])"
      ]
     },
     "execution_count": 57,
     "metadata": {},
     "output_type": "execute_result"
    }
   ],
   "source": [
    "X_valid=scaler.transform(X_valid)\n",
    "X_valid[0]"
   ]
  },
  {
   "cell_type": "code",
   "execution_count": 58,
   "metadata": {},
   "outputs": [],
   "source": [
    "X_test=scaler.transform(X_test)\n"
   ]
  },
  {
   "cell_type": "code",
   "execution_count": 59,
   "metadata": {},
   "outputs": [],
   "source": [
    "model=keras.models.Sequential([keras.layers.Dense(30,activation=\"relu\",input_shape=X_train.shape[1:]), keras.layers.Dense(1)])"
   ]
  },
  {
   "cell_type": "code",
   "execution_count": 61,
   "metadata": {},
   "outputs": [],
   "source": [
    "model.compile(loss=\"mean_squared_error\",optimizer=\"sgd\")"
   ]
  },
  {
   "cell_type": "code",
   "execution_count": 62,
   "metadata": {},
   "outputs": [
    {
     "name": "stdout",
     "output_type": "stream",
     "text": [
      "Epoch 1/20\n",
      "363/363 [==============================] - 0s 875us/step - loss: 1.8049 - val_loss: 0.5765\n",
      "Epoch 2/20\n",
      "363/363 [==============================] - 0s 729us/step - loss: 0.4996 - val_loss: 0.4875\n",
      "Epoch 3/20\n",
      "363/363 [==============================] - 0s 706us/step - loss: 0.4464 - val_loss: 0.4603\n",
      "Epoch 4/20\n",
      "363/363 [==============================] - 0s 697us/step - loss: 0.4244 - val_loss: 0.4449\n",
      "Epoch 5/20\n",
      "363/363 [==============================] - 0s 703us/step - loss: 0.4094 - val_loss: 0.4348\n",
      "Epoch 6/20\n",
      "363/363 [==============================] - 0s 697us/step - loss: 0.4006 - val_loss: 0.4269\n",
      "Epoch 7/20\n",
      "363/363 [==============================] - 0s 695us/step - loss: 0.3947 - val_loss: 0.4273\n",
      "Epoch 8/20\n",
      "363/363 [==============================] - 0s 711us/step - loss: 0.3906 - val_loss: 0.4182\n",
      "Epoch 9/20\n",
      "363/363 [==============================] - 0s 728us/step - loss: 0.3867 - val_loss: 0.4170\n",
      "Epoch 10/20\n",
      "363/363 [==============================] - 0s 714us/step - loss: 0.3845 - val_loss: 0.4171\n",
      "Epoch 11/20\n",
      "363/363 [==============================] - 0s 714us/step - loss: 0.3821 - val_loss: 0.4196\n",
      "Epoch 12/20\n",
      "363/363 [==============================] - 0s 707us/step - loss: 0.3791 - val_loss: 0.4085\n",
      "Epoch 13/20\n",
      "363/363 [==============================] - 0s 702us/step - loss: 0.3821 - val_loss: 0.4180\n",
      "Epoch 14/20\n",
      "363/363 [==============================] - 0s 711us/step - loss: 0.3799 - val_loss: 0.4122\n",
      "Epoch 15/20\n",
      "363/363 [==============================] - 0s 705us/step - loss: 0.3740 - val_loss: 0.4060\n",
      "Epoch 16/20\n",
      "363/363 [==============================] - 0s 704us/step - loss: 0.3711 - val_loss: 0.4068\n",
      "Epoch 17/20\n",
      "363/363 [==============================] - 0s 695us/step - loss: 0.3670 - val_loss: 0.4022\n",
      "Epoch 18/20\n",
      "363/363 [==============================] - 0s 776us/step - loss: 0.3660 - val_loss: 0.4065\n",
      "Epoch 19/20\n",
      "363/363 [==============================] - 0s 725us/step - loss: 0.3665 - val_loss: 0.3957\n",
      "Epoch 20/20\n",
      "363/363 [==============================] - 0s 744us/step - loss: 0.3634 - val_loss: 0.3935\n"
     ]
    }
   ],
   "source": [
    "history=model.fit(X_train,y_train,epochs=20,validation_data=(X_valid,y_valid))"
   ]
  },
  {
   "cell_type": "code",
   "execution_count": 63,
   "metadata": {},
   "outputs": [
    {
     "data": {
      "text/plain": [
       "<AxesSubplot:>"
      ]
     },
     "execution_count": 63,
     "metadata": {},
     "output_type": "execute_result"
    },
    {
     "data": {
      "image/png": "[encoded data removed]",
      "text/plain": [
       "<Figure size 432x288 with 1 Axes>"
      ]
     },
     "metadata": {
      "needs_background": "light"
     },
     "output_type": "display_data"
    }
   ],
   "source": [
    "pd.DataFrame(history.history).plot()"
   ]
  },
  {
   "cell_type": "code",
   "execution_count": null,
   "metadata": {},
   "outputs": [],
   "source": []
  }
 ],
 "metadata": {
  "kernelspec": {
   "display_name": "Python 3",
   "language": "python",
   "name": "python3"
  },
  "language_info": {
   "codemirror_mode": {
    "name": "ipython",
    "version": 3
   },
   "file_extension": ".py",
   "mimetype": "text/x-python",
   "name": "python",
   "nbconvert_exporter": "python",
   "pygments_lexer": "ipython3",
   "version": "3.6.2"
  }
 },
 "nbformat": 4,
 "nbformat_minor": 4
}
